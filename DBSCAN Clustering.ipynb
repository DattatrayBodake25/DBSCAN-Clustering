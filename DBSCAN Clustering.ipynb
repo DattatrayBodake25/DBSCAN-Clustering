{
 "cells": [
  {
   "cell_type": "code",
   "execution_count": 1,
   "id": "fed31f65",
   "metadata": {
    "ExecuteTime": {
     "end_time": "2023-04-01T08:41:17.941176Z",
     "start_time": "2023-04-01T08:41:17.903230Z"
    }
   },
   "outputs": [],
   "source": [
    "#importing libraries"
   ]
  },
  {
   "cell_type": "code",
   "execution_count": 2,
   "id": "6d0a68d3",
   "metadata": {
    "ExecuteTime": {
     "end_time": "2023-04-01T08:41:21.832012Z",
     "start_time": "2023-04-01T08:41:17.950196Z"
    }
   },
   "outputs": [],
   "source": [
    "import pandas as pd\n",
    "import numpy as np\n",
    "import seaborn as sns\n",
    "import matplotlib.pyplot as plt\n",
    "\n",
    "import warnings\n",
    "warnings.filterwarnings('ignore')\n",
    "\n",
    "%matplotlib inline"
   ]
  },
  {
   "cell_type": "code",
   "execution_count": 3,
   "id": "67eb2ff9",
   "metadata": {
    "ExecuteTime": {
     "end_time": "2023-04-01T08:41:23.732066Z",
     "start_time": "2023-04-01T08:41:21.836005Z"
    }
   },
   "outputs": [],
   "source": [
    "df = pd.read_csv('https://raw.githubusercontent.com/aishwaryamate/Datasets/main/Wholesale%20customers%20data.csv')"
   ]
  },
  {
   "cell_type": "code",
   "execution_count": 4,
   "id": "d97a4664",
   "metadata": {
    "ExecuteTime": {
     "end_time": "2023-04-01T08:41:23.827106Z",
     "start_time": "2023-04-01T08:41:23.738359Z"
    }
   },
   "outputs": [
    {
     "data": {
      "text/html": [
       "<div>\n",
       "<style scoped>\n",
       "    .dataframe tbody tr th:only-of-type {\n",
       "        vertical-align: middle;\n",
       "    }\n",
       "\n",
       "    .dataframe tbody tr th {\n",
       "        vertical-align: top;\n",
       "    }\n",
       "\n",
       "    .dataframe thead th {\n",
       "        text-align: right;\n",
       "    }\n",
       "</style>\n",
       "<table border=\"1\" class=\"dataframe\">\n",
       "  <thead>\n",
       "    <tr style=\"text-align: right;\">\n",
       "      <th></th>\n",
       "      <th>Fresh</th>\n",
       "      <th>Milk</th>\n",
       "      <th>Grocery</th>\n",
       "      <th>Frozen</th>\n",
       "      <th>Detergents_Paper</th>\n",
       "      <th>Delicassen</th>\n",
       "    </tr>\n",
       "  </thead>\n",
       "  <tbody>\n",
       "    <tr>\n",
       "      <th>0</th>\n",
       "      <td>12669</td>\n",
       "      <td>9656</td>\n",
       "      <td>7561</td>\n",
       "      <td>214</td>\n",
       "      <td>2674</td>\n",
       "      <td>1338</td>\n",
       "    </tr>\n",
       "    <tr>\n",
       "      <th>1</th>\n",
       "      <td>7057</td>\n",
       "      <td>9810</td>\n",
       "      <td>9568</td>\n",
       "      <td>1762</td>\n",
       "      <td>3293</td>\n",
       "      <td>1776</td>\n",
       "    </tr>\n",
       "    <tr>\n",
       "      <th>2</th>\n",
       "      <td>6353</td>\n",
       "      <td>8808</td>\n",
       "      <td>7684</td>\n",
       "      <td>2405</td>\n",
       "      <td>3516</td>\n",
       "      <td>7844</td>\n",
       "    </tr>\n",
       "    <tr>\n",
       "      <th>3</th>\n",
       "      <td>13265</td>\n",
       "      <td>1196</td>\n",
       "      <td>4221</td>\n",
       "      <td>6404</td>\n",
       "      <td>507</td>\n",
       "      <td>1788</td>\n",
       "    </tr>\n",
       "    <tr>\n",
       "      <th>4</th>\n",
       "      <td>22615</td>\n",
       "      <td>5410</td>\n",
       "      <td>7198</td>\n",
       "      <td>3915</td>\n",
       "      <td>1777</td>\n",
       "      <td>5185</td>\n",
       "    </tr>\n",
       "    <tr>\n",
       "      <th>...</th>\n",
       "      <td>...</td>\n",
       "      <td>...</td>\n",
       "      <td>...</td>\n",
       "      <td>...</td>\n",
       "      <td>...</td>\n",
       "      <td>...</td>\n",
       "    </tr>\n",
       "    <tr>\n",
       "      <th>435</th>\n",
       "      <td>29703</td>\n",
       "      <td>12051</td>\n",
       "      <td>16027</td>\n",
       "      <td>13135</td>\n",
       "      <td>182</td>\n",
       "      <td>2204</td>\n",
       "    </tr>\n",
       "    <tr>\n",
       "      <th>436</th>\n",
       "      <td>39228</td>\n",
       "      <td>1431</td>\n",
       "      <td>764</td>\n",
       "      <td>4510</td>\n",
       "      <td>93</td>\n",
       "      <td>2346</td>\n",
       "    </tr>\n",
       "    <tr>\n",
       "      <th>437</th>\n",
       "      <td>14531</td>\n",
       "      <td>15488</td>\n",
       "      <td>30243</td>\n",
       "      <td>437</td>\n",
       "      <td>14841</td>\n",
       "      <td>1867</td>\n",
       "    </tr>\n",
       "    <tr>\n",
       "      <th>438</th>\n",
       "      <td>10290</td>\n",
       "      <td>1981</td>\n",
       "      <td>2232</td>\n",
       "      <td>1038</td>\n",
       "      <td>168</td>\n",
       "      <td>2125</td>\n",
       "    </tr>\n",
       "    <tr>\n",
       "      <th>439</th>\n",
       "      <td>2787</td>\n",
       "      <td>1698</td>\n",
       "      <td>2510</td>\n",
       "      <td>65</td>\n",
       "      <td>477</td>\n",
       "      <td>52</td>\n",
       "    </tr>\n",
       "  </tbody>\n",
       "</table>\n",
       "<p>440 rows × 6 columns</p>\n",
       "</div>"
      ],
      "text/plain": [
       "     Fresh   Milk  Grocery  Frozen  Detergents_Paper  Delicassen\n",
       "0    12669   9656     7561     214              2674        1338\n",
       "1     7057   9810     9568    1762              3293        1776\n",
       "2     6353   8808     7684    2405              3516        7844\n",
       "3    13265   1196     4221    6404               507        1788\n",
       "4    22615   5410     7198    3915              1777        5185\n",
       "..     ...    ...      ...     ...               ...         ...\n",
       "435  29703  12051    16027   13135               182        2204\n",
       "436  39228   1431      764    4510                93        2346\n",
       "437  14531  15488    30243     437             14841        1867\n",
       "438  10290   1981     2232    1038               168        2125\n",
       "439   2787   1698     2510      65               477          52\n",
       "\n",
       "[440 rows x 6 columns]"
      ]
     },
     "execution_count": 4,
     "metadata": {},
     "output_type": "execute_result"
    }
   ],
   "source": [
    "df"
   ]
  },
  {
   "cell_type": "code",
   "execution_count": 5,
   "id": "67e0b8a1",
   "metadata": {
    "ExecuteTime": {
     "end_time": "2023-04-01T08:41:23.858667Z",
     "start_time": "2023-04-01T08:41:23.845047Z"
    }
   },
   "outputs": [],
   "source": [
    "#data description"
   ]
  },
  {
   "cell_type": "code",
   "execution_count": 6,
   "id": "bbb42fe5",
   "metadata": {
    "ExecuteTime": {
     "end_time": "2023-04-01T08:41:23.984928Z",
     "start_time": "2023-04-01T08:41:23.907432Z"
    }
   },
   "outputs": [
    {
     "name": "stdout",
     "output_type": "stream",
     "text": [
      "<class 'pandas.core.frame.DataFrame'>\n",
      "RangeIndex: 440 entries, 0 to 439\n",
      "Data columns (total 6 columns):\n",
      " #   Column            Non-Null Count  Dtype\n",
      "---  ------            --------------  -----\n",
      " 0   Fresh             440 non-null    int64\n",
      " 1   Milk              440 non-null    int64\n",
      " 2   Grocery           440 non-null    int64\n",
      " 3   Frozen            440 non-null    int64\n",
      " 4   Detergents_Paper  440 non-null    int64\n",
      " 5   Delicassen        440 non-null    int64\n",
      "dtypes: int64(6)\n",
      "memory usage: 20.8 KB\n"
     ]
    }
   ],
   "source": [
    "df.info()"
   ]
  },
  {
   "cell_type": "code",
   "execution_count": 7,
   "id": "260381c6",
   "metadata": {
    "ExecuteTime": {
     "end_time": "2023-04-01T08:41:24.048252Z",
     "start_time": "2023-04-01T08:41:23.988399Z"
    }
   },
   "outputs": [
    {
     "data": {
      "text/html": [
       "<div>\n",
       "<style scoped>\n",
       "    .dataframe tbody tr th:only-of-type {\n",
       "        vertical-align: middle;\n",
       "    }\n",
       "\n",
       "    .dataframe tbody tr th {\n",
       "        vertical-align: top;\n",
       "    }\n",
       "\n",
       "    .dataframe thead th {\n",
       "        text-align: right;\n",
       "    }\n",
       "</style>\n",
       "<table border=\"1\" class=\"dataframe\">\n",
       "  <thead>\n",
       "    <tr style=\"text-align: right;\">\n",
       "      <th></th>\n",
       "      <th>Fresh</th>\n",
       "      <th>Milk</th>\n",
       "      <th>Grocery</th>\n",
       "      <th>Frozen</th>\n",
       "      <th>Detergents_Paper</th>\n",
       "      <th>Delicassen</th>\n",
       "    </tr>\n",
       "  </thead>\n",
       "  <tbody>\n",
       "    <tr>\n",
       "      <th>count</th>\n",
       "      <td>440.000000</td>\n",
       "      <td>440.000000</td>\n",
       "      <td>440.000000</td>\n",
       "      <td>440.000000</td>\n",
       "      <td>440.000000</td>\n",
       "      <td>440.000000</td>\n",
       "    </tr>\n",
       "    <tr>\n",
       "      <th>mean</th>\n",
       "      <td>12000.297727</td>\n",
       "      <td>5796.265909</td>\n",
       "      <td>7951.277273</td>\n",
       "      <td>3071.931818</td>\n",
       "      <td>2881.493182</td>\n",
       "      <td>1524.870455</td>\n",
       "    </tr>\n",
       "    <tr>\n",
       "      <th>std</th>\n",
       "      <td>12647.328865</td>\n",
       "      <td>7380.377175</td>\n",
       "      <td>9503.162829</td>\n",
       "      <td>4854.673333</td>\n",
       "      <td>4767.854448</td>\n",
       "      <td>2820.105937</td>\n",
       "    </tr>\n",
       "    <tr>\n",
       "      <th>min</th>\n",
       "      <td>3.000000</td>\n",
       "      <td>55.000000</td>\n",
       "      <td>3.000000</td>\n",
       "      <td>25.000000</td>\n",
       "      <td>3.000000</td>\n",
       "      <td>3.000000</td>\n",
       "    </tr>\n",
       "    <tr>\n",
       "      <th>25%</th>\n",
       "      <td>3127.750000</td>\n",
       "      <td>1533.000000</td>\n",
       "      <td>2153.000000</td>\n",
       "      <td>742.250000</td>\n",
       "      <td>256.750000</td>\n",
       "      <td>408.250000</td>\n",
       "    </tr>\n",
       "    <tr>\n",
       "      <th>50%</th>\n",
       "      <td>8504.000000</td>\n",
       "      <td>3627.000000</td>\n",
       "      <td>4755.500000</td>\n",
       "      <td>1526.000000</td>\n",
       "      <td>816.500000</td>\n",
       "      <td>965.500000</td>\n",
       "    </tr>\n",
       "    <tr>\n",
       "      <th>75%</th>\n",
       "      <td>16933.750000</td>\n",
       "      <td>7190.250000</td>\n",
       "      <td>10655.750000</td>\n",
       "      <td>3554.250000</td>\n",
       "      <td>3922.000000</td>\n",
       "      <td>1820.250000</td>\n",
       "    </tr>\n",
       "    <tr>\n",
       "      <th>max</th>\n",
       "      <td>112151.000000</td>\n",
       "      <td>73498.000000</td>\n",
       "      <td>92780.000000</td>\n",
       "      <td>60869.000000</td>\n",
       "      <td>40827.000000</td>\n",
       "      <td>47943.000000</td>\n",
       "    </tr>\n",
       "  </tbody>\n",
       "</table>\n",
       "</div>"
      ],
      "text/plain": [
       "               Fresh          Milk       Grocery        Frozen  \\\n",
       "count     440.000000    440.000000    440.000000    440.000000   \n",
       "mean    12000.297727   5796.265909   7951.277273   3071.931818   \n",
       "std     12647.328865   7380.377175   9503.162829   4854.673333   \n",
       "min         3.000000     55.000000      3.000000     25.000000   \n",
       "25%      3127.750000   1533.000000   2153.000000    742.250000   \n",
       "50%      8504.000000   3627.000000   4755.500000   1526.000000   \n",
       "75%     16933.750000   7190.250000  10655.750000   3554.250000   \n",
       "max    112151.000000  73498.000000  92780.000000  60869.000000   \n",
       "\n",
       "       Detergents_Paper    Delicassen  \n",
       "count        440.000000    440.000000  \n",
       "mean        2881.493182   1524.870455  \n",
       "std         4767.854448   2820.105937  \n",
       "min            3.000000      3.000000  \n",
       "25%          256.750000    408.250000  \n",
       "50%          816.500000    965.500000  \n",
       "75%         3922.000000   1820.250000  \n",
       "max        40827.000000  47943.000000  "
      ]
     },
     "execution_count": 7,
     "metadata": {},
     "output_type": "execute_result"
    }
   ],
   "source": [
    "df.describe()"
   ]
  },
  {
   "cell_type": "code",
   "execution_count": 8,
   "id": "a83cc3cf",
   "metadata": {
    "ExecuteTime": {
     "end_time": "2023-04-01T08:41:24.111643Z",
     "start_time": "2023-04-01T08:41:24.060086Z"
    }
   },
   "outputs": [
    {
     "data": {
      "text/plain": [
       "Fresh               0\n",
       "Milk                0\n",
       "Grocery             0\n",
       "Frozen              0\n",
       "Detergents_Paper    0\n",
       "Delicassen          0\n",
       "dtype: int64"
      ]
     },
     "execution_count": 8,
     "metadata": {},
     "output_type": "execute_result"
    }
   ],
   "source": [
    "df.isna().sum()"
   ]
  },
  {
   "cell_type": "code",
   "execution_count": 9,
   "id": "c96465ee",
   "metadata": {
    "ExecuteTime": {
     "end_time": "2023-04-01T08:41:24.836896Z",
     "start_time": "2023-04-01T08:41:24.127663Z"
    }
   },
   "outputs": [
    {
     "data": {
      "text/plain": [
       "<AxesSubplot:>"
      ]
     },
     "execution_count": 9,
     "metadata": {},
     "output_type": "execute_result"
    },
    {
     "data": {
      "image/png": "[encoded data removed]",
      "text/plain": [
       "<Figure size 2500x1250 with 1 Axes>"
      ]
     },
     "metadata": {},
     "output_type": "display_data"
    }
   ],
   "source": [
    "plt.rcParams['figure.figsize'] = (10,5)\n",
    "plt.rcParams['figure.dpi'] = 250\n",
    "df.boxplot()"
   ]
  },
  {
   "cell_type": "code",
   "execution_count": 10,
   "id": "c3162980",
   "metadata": {
    "ExecuteTime": {
     "end_time": "2023-04-01T08:41:24.852871Z",
     "start_time": "2023-04-01T08:41:24.839317Z"
    }
   },
   "outputs": [],
   "source": [
    "#feature scaling"
   ]
  },
  {
   "cell_type": "code",
   "execution_count": 11,
   "id": "e1d4dcae",
   "metadata": {
    "ExecuteTime": {
     "end_time": "2023-04-01T08:41:25.279926Z",
     "start_time": "2023-04-01T08:41:24.856633Z"
    }
   },
   "outputs": [],
   "source": [
    "from sklearn.preprocessing import StandardScaler"
   ]
  },
  {
   "cell_type": "code",
   "execution_count": 12,
   "id": "283eb799",
   "metadata": {
    "ExecuteTime": {
     "end_time": "2023-04-01T08:41:25.314064Z",
     "start_time": "2023-04-01T08:41:25.286599Z"
    }
   },
   "outputs": [],
   "source": [
    "sc = StandardScaler()"
   ]
  },
  {
   "cell_type": "code",
   "execution_count": 13,
   "id": "c2423c4e",
   "metadata": {
    "ExecuteTime": {
     "end_time": "2023-04-01T08:41:25.345897Z",
     "start_time": "2023-04-01T08:41:25.317937Z"
    }
   },
   "outputs": [],
   "source": [
    "x = sc.fit_transform(df)"
   ]
  },
  {
   "cell_type": "code",
   "execution_count": 14,
   "id": "c5e7c760",
   "metadata": {
    "ExecuteTime": {
     "end_time": "2023-04-01T08:41:25.378101Z",
     "start_time": "2023-04-01T08:41:25.351457Z"
    }
   },
   "outputs": [
    {
     "data": {
      "text/plain": [
       "array([[ 0.05293319,  0.52356777, -0.04111489, -0.58936716, -0.04356873,\n",
       "        -0.06633906],\n",
       "       [-0.39130197,  0.54445767,  0.17031835, -0.27013618,  0.08640684,\n",
       "         0.08915105],\n",
       "       [-0.44702926,  0.40853771, -0.0281571 , -0.13753572,  0.13323164,\n",
       "         2.24329255],\n",
       "       ...,\n",
       "       [ 0.20032554,  1.31467078,  2.34838631, -0.54337975,  2.51121768,\n",
       "         0.12145607],\n",
       "       [-0.13538389, -0.51753572, -0.60251388, -0.41944059, -0.56977032,\n",
       "         0.21304614],\n",
       "       [-0.72930698, -0.5559243 , -0.57322717, -0.62009417, -0.50488752,\n",
       "        -0.52286938]])"
      ]
     },
     "execution_count": 14,
     "metadata": {},
     "output_type": "execute_result"
    }
   ],
   "source": [
    "x"
   ]
  },
  {
   "cell_type": "markdown",
   "id": "03c06724",
   "metadata": {},
   "source": [
    "# Model Building"
   ]
  },
  {
   "cell_type": "code",
   "execution_count": 15,
   "id": "802700ad",
   "metadata": {
    "ExecuteTime": {
     "end_time": "2023-04-01T08:41:25.835575Z",
     "start_time": "2023-04-01T08:41:25.383777Z"
    }
   },
   "outputs": [],
   "source": [
    "from sklearn.cluster import DBSCAN"
   ]
  },
  {
   "cell_type": "code",
   "execution_count": 16,
   "id": "b08defaa",
   "metadata": {
    "ExecuteTime": {
     "end_time": "2023-04-01T08:41:25.853149Z",
     "start_time": "2023-04-01T08:41:25.840659Z"
    }
   },
   "outputs": [],
   "source": [
    "db = DBSCAN()"
   ]
  },
  {
   "cell_type": "code",
   "execution_count": 17,
   "id": "f00a32ee",
   "metadata": {
    "ExecuteTime": {
     "end_time": "2023-04-01T08:41:25.899968Z",
     "start_time": "2023-04-01T08:41:25.859738Z"
    }
   },
   "outputs": [
    {
     "data": {
      "text/plain": [
       "array([ 0,  0, -1,  0, -1,  0,  0,  0,  0, -1, -1,  0, -1, -1, -1,  0,  0,\n",
       "       -1,  0,  0,  0,  0, -1, -1, -1,  0,  0,  0, -1,  1, -1,  0,  0, -1,\n",
       "        0,  0, -1, -1, -1, -1, -1, -1, -1, -1, -1, -1, -1, -1,  0, -1,  0,\n",
       "        0, -1,  0,  0,  0, -1, -1,  0,  0,  0, -1, -1, -1,  0, -1, -1, -1,\n",
       "       -1,  0, -1, -1, -1, -1,  0,  0, -1, -1,  0,  0,  0,  0,  0,  0,  0,\n",
       "       -1, -1, -1,  0, -1,  0,  0, -1, -1,  0,  0, -1,  0,  0,  0, -1, -1,\n",
       "        0, -1,  0,  0,  0, -1,  0, -1,  0, -1, -1,  0,  0,  0,  0,  0,  0,\n",
       "        0,  0,  0,  0, -1, -1, -1,  0, -1,  0,  1,  0,  0,  0,  0,  0,  0,\n",
       "       -1, -1, -1,  0,  0, -1, -1,  0,  0, -1,  0,  0,  0,  0,  0,  0,  0,\n",
       "       -1,  0, -1, -1,  0,  0,  0,  0,  0,  0, -1, -1, -1, -1,  0,  0,  0,\n",
       "        0, -1,  0, -1,  0,  0, -1, -1,  0, -1,  0, -1,  0, -1,  0,  0,  0,\n",
       "       -1, -1,  0, -1,  0,  0, -1,  0,  0, -1,  0,  0,  0, -1, -1, -1,  0,\n",
       "        0, -1,  0, -1,  0, -1,  0, -1,  0,  0,  0, -1, -1,  0, -1,  0,  0,\n",
       "        0,  0,  0,  0,  0,  0,  0, -1,  0, -1, -1,  0,  0,  0,  0,  0,  0,\n",
       "        0, -1, -1,  0,  0,  0,  0, -1,  0,  0,  0,  0,  0, -1,  0, -1, -1,\n",
       "        0,  0, -1, -1, -1,  0,  0,  0, -1,  0, -1, -1, -1, -1,  0,  0,  0,\n",
       "       -1, -1,  0,  0, -1, -1,  0,  0,  0,  0, -1, -1, -1,  1,  0,  0,  0,\n",
       "        1,  0,  0,  0,  0, -1,  0,  0,  0,  0,  0,  0, -1,  0, -1, -1, -1,\n",
       "       -1,  0,  0, -1, -1, -1, -1,  0,  0, -1,  0,  0,  0, -1,  0,  0,  0,\n",
       "       -1,  0, -1,  0,  0,  0,  0,  0, -1,  0, -1, -1, -1,  0,  0, -1, -1,\n",
       "        0,  0,  0, -1,  0,  0, -1, -1,  0, -1,  0, -1,  0, -1, -1,  0,  0,\n",
       "       -1, -1,  0,  0,  0,  0,  0,  0,  0,  0,  0,  0,  0, -1,  0, -1,  0,\n",
       "        0,  0, -1,  1,  0,  0,  0, -1, -1,  0, -1,  0,  0,  0,  0,  0,  0,\n",
       "        0,  0, -1,  0,  0, -1,  0,  0,  0,  0, -1,  0, -1,  0,  0, -1, -1,\n",
       "        0, -1,  0, -1,  0, -1,  0,  0,  0,  0, -1,  0,  0,  0,  0,  0, -1,\n",
       "       -1, -1, -1,  0,  0, -1, -1,  0,  0,  0, -1, -1, -1,  0,  0],\n",
       "      dtype=int64)"
      ]
     },
     "execution_count": 17,
     "metadata": {},
     "output_type": "execute_result"
    }
   ],
   "source": [
    "db.fit_predict(x)"
   ]
  },
  {
   "cell_type": "code",
   "execution_count": 18,
   "id": "4bbdbb87",
   "metadata": {
    "ExecuteTime": {
     "end_time": "2023-04-01T08:41:25.963759Z",
     "start_time": "2023-04-01T08:41:25.902151Z"
    }
   },
   "outputs": [],
   "source": [
    "db = DBSCAN(eps=2,min_samples=3)\n",
    "\n",
    "y = db.fit_predict(x)"
   ]
  },
  {
   "cell_type": "code",
   "execution_count": null,
   "id": "a5a930b8",
   "metadata": {
    "ExecuteTime": {
     "start_time": "2023-04-01T08:41:17.948Z"
    }
   },
   "outputs": [],
   "source": [
    "sns.pairplot(df)"
   ]
  },
  {
   "cell_type": "code",
   "execution_count": null,
   "id": "425fcbae",
   "metadata": {
    "ExecuteTime": {
     "start_time": "2023-04-01T08:41:17.951Z"
    }
   },
   "outputs": [],
   "source": [
    "#Model Evaluation"
   ]
  },
  {
   "cell_type": "code",
   "execution_count": null,
   "id": "907fb9b0",
   "metadata": {
    "ExecuteTime": {
     "start_time": "2023-04-01T08:41:17.953Z"
    }
   },
   "outputs": [],
   "source": [
    "from sklearn.metrics import silhouette_score"
   ]
  },
  {
   "cell_type": "code",
   "execution_count": null,
   "id": "34ffab10",
   "metadata": {
    "ExecuteTime": {
     "start_time": "2023-04-01T08:41:17.957Z"
    }
   },
   "outputs": [],
   "source": [
    "silhouette_score(x,db.fit_predict(x))"
   ]
  },
  {
   "cell_type": "code",
   "execution_count": null,
   "id": "1aa9ccef",
   "metadata": {
    "ExecuteTime": {
     "start_time": "2023-04-01T08:41:17.959Z"
    }
   },
   "outputs": [],
   "source": [
    "#add label to data set"
   ]
  },
  {
   "cell_type": "code",
   "execution_count": null,
   "id": "d71217c9",
   "metadata": {
    "ExecuteTime": {
     "start_time": "2023-04-01T08:41:17.961Z"
    }
   },
   "outputs": [],
   "source": [
    "df['Cluster']  = y"
   ]
  },
  {
   "cell_type": "code",
   "execution_count": null,
   "id": "8876db73",
   "metadata": {
    "ExecuteTime": {
     "start_time": "2023-04-01T08:41:17.965Z"
    }
   },
   "outputs": [],
   "source": [
    "df"
   ]
  },
  {
   "cell_type": "code",
   "execution_count": null,
   "id": "bca58fad",
   "metadata": {
    "ExecuteTime": {
     "start_time": "2023-04-01T08:41:17.968Z"
    }
   },
   "outputs": [],
   "source": [
    "df[df['Cluster'] == -1]"
   ]
  },
  {
   "cell_type": "code",
   "execution_count": null,
   "id": "6fffceba",
   "metadata": {
    "ExecuteTime": {
     "start_time": "2023-04-01T08:41:17.971Z"
    }
   },
   "outputs": [],
   "source": [
    "df[df['Cluster'] ==0]"
   ]
  },
  {
   "cell_type": "code",
   "execution_count": null,
   "id": "0efee2c6",
   "metadata": {
    "ExecuteTime": {
     "start_time": "2023-04-01T08:41:17.974Z"
    }
   },
   "outputs": [],
   "source": [
    "df[df['Cluster'] == 1]"
   ]
  },
  {
   "cell_type": "code",
   "execution_count": null,
   "id": "27cfe11f",
   "metadata": {
    "ExecuteTime": {
     "start_time": "2023-04-01T08:41:17.976Z"
    }
   },
   "outputs": [],
   "source": [
    "#groupby"
   ]
  },
  {
   "cell_type": "code",
   "execution_count": null,
   "id": "b1413d95",
   "metadata": {
    "ExecuteTime": {
     "start_time": "2023-04-01T08:41:17.979Z"
    }
   },
   "outputs": [],
   "source": [
    "df.groupby('Cluster').agg('mean')"
   ]
  },
  {
   "cell_type": "code",
   "execution_count": null,
   "id": "50cfbf9b",
   "metadata": {},
   "outputs": [],
   "source": []
  }
 ],
 "metadata": {
  "kernelspec": {
   "display_name": "Python 3 (ipykernel)",
   "language": "python",
   "name": "python3"
  },
  "language_info": {
   "codemirror_mode": {
    "name": "ipython",
    "version": 3
   },
   "file_extension": ".py",
   "mimetype": "text/x-python",
   "name": "python",
   "nbconvert_exporter": "python",
   "pygments_lexer": "ipython3",
   "version": "3.9.12"
  }
 },
 "nbformat": 4,
 "nbformat_minor": 5
}
